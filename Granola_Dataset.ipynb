{
 "cells": [
  {
   "cell_type": "code",
   "execution_count": 1,
   "id": "54df6992",
   "metadata": {},
   "outputs": [],
   "source": [
    "import pandas as pd\n",
    "import math\n",
    "import matplotlib.pyplot as plt\n",
    "from scipy import stats\n",
    "import numpy as np\n"
   ]
  },
  {
   "cell_type": "code",
   "execution_count": 2,
   "id": "ecda0b60",
   "metadata": {},
   "outputs": [],
   "source": [
    "granola = {\"Brand\" : [\"KIND\",\"Paleonola\",\"Nature’s Valley\",\"Purely Elizabeth\",\"Kashi\",\"Cascadian Farm\",\"Quaker\"],\n",
    "          \"Price ($)\": [6.99,6.29,4.99,6.50,6.75,5.99,6.25],\n",
    "          \"Sugar per serving\": [10,12,22,17,16,24,28],\n",
    "          \"Made bestsellers' list?\": [\"Yes\",\"Yes\",\"No\",\"Yes\",\"No\",\"No\",\"No\"]}"
   ]
  },
  {
   "cell_type": "code",
   "execution_count": 3,
   "id": "afe9bc29",
   "metadata": {},
   "outputs": [],
   "source": [
    "df=pd.DataFrame(granola)"
   ]
  },
  {
   "cell_type": "code",
   "execution_count": 4,
   "id": "ff93c774",
   "metadata": {},
   "outputs": [
    {
     "data": {
      "text/html": [
       "<div>\n",
       "<style scoped>\n",
       "    .dataframe tbody tr th:only-of-type {\n",
       "        vertical-align: middle;\n",
       "    }\n",
       "\n",
       "    .dataframe tbody tr th {\n",
       "        vertical-align: top;\n",
       "    }\n",
       "\n",
       "    .dataframe thead th {\n",
       "        text-align: right;\n",
       "    }\n",
       "</style>\n",
       "<table border=\"1\" class=\"dataframe\">\n",
       "  <thead>\n",
       "    <tr style=\"text-align: right;\">\n",
       "      <th></th>\n",
       "      <th>Brand</th>\n",
       "      <th>Price ($)</th>\n",
       "      <th>Sugar per serving</th>\n",
       "      <th>Made bestsellers' list?</th>\n",
       "    </tr>\n",
       "  </thead>\n",
       "  <tbody>\n",
       "    <tr>\n",
       "      <th>0</th>\n",
       "      <td>KIND</td>\n",
       "      <td>6.99</td>\n",
       "      <td>10</td>\n",
       "      <td>Yes</td>\n",
       "    </tr>\n",
       "    <tr>\n",
       "      <th>1</th>\n",
       "      <td>Paleonola</td>\n",
       "      <td>6.29</td>\n",
       "      <td>12</td>\n",
       "      <td>Yes</td>\n",
       "    </tr>\n",
       "    <tr>\n",
       "      <th>2</th>\n",
       "      <td>Nature’s Valley</td>\n",
       "      <td>4.99</td>\n",
       "      <td>22</td>\n",
       "      <td>No</td>\n",
       "    </tr>\n",
       "    <tr>\n",
       "      <th>3</th>\n",
       "      <td>Purely Elizabeth</td>\n",
       "      <td>6.50</td>\n",
       "      <td>17</td>\n",
       "      <td>Yes</td>\n",
       "    </tr>\n",
       "    <tr>\n",
       "      <th>4</th>\n",
       "      <td>Kashi</td>\n",
       "      <td>6.75</td>\n",
       "      <td>16</td>\n",
       "      <td>No</td>\n",
       "    </tr>\n",
       "    <tr>\n",
       "      <th>5</th>\n",
       "      <td>Cascadian Farm</td>\n",
       "      <td>5.99</td>\n",
       "      <td>24</td>\n",
       "      <td>No</td>\n",
       "    </tr>\n",
       "    <tr>\n",
       "      <th>6</th>\n",
       "      <td>Quaker</td>\n",
       "      <td>6.25</td>\n",
       "      <td>28</td>\n",
       "      <td>No</td>\n",
       "    </tr>\n",
       "  </tbody>\n",
       "</table>\n",
       "</div>"
      ],
      "text/plain": [
       "              Brand  Price ($)  Sugar per serving Made bestsellers' list?\n",
       "0              KIND       6.99                 10                     Yes\n",
       "1         Paleonola       6.29                 12                     Yes\n",
       "2   Nature’s Valley       4.99                 22                      No\n",
       "3  Purely Elizabeth       6.50                 17                     Yes\n",
       "4             Kashi       6.75                 16                      No\n",
       "5    Cascadian Farm       5.99                 24                      No\n",
       "6            Quaker       6.25                 28                      No"
      ]
     },
     "execution_count": 4,
     "metadata": {},
     "output_type": "execute_result"
    }
   ],
   "source": [
    "df\n"
   ]
  },
  {
   "cell_type": "markdown",
   "id": "500cb63c",
   "metadata": {},
   "source": [
    "### 3.Using the Manhattan distance formula, calculate the distance between KIND granola and Nature’s Valley granola.\n"
   ]
  },
  {
   "cell_type": "code",
   "execution_count": 5,
   "id": "c4d9a4ea",
   "metadata": {},
   "outputs": [],
   "source": [
    "from math import sqrt"
   ]
  },
  {
   "cell_type": "code",
   "execution_count": 6,
   "id": "4c8094ba",
   "metadata": {},
   "outputs": [],
   "source": [
    "#create function to calculate Manhattan distance \n",
    "\n",
    "def manhattan(a, b):\n",
    "    return sum(abs(num1-num2) for num1, num2 in zip(a,b))\n"
   ]
  },
  {
   "cell_type": "code",
   "execution_count": 7,
   "id": "07034b61",
   "metadata": {},
   "outputs": [],
   "source": [
    "A = df.loc[0,[\"Price ($)\",\"Sugar per serving\"]]\n",
    "B = df.loc[2,[\"Price ($)\",\"Sugar per serving\"]]\n",
    "\n",
    "\n"
   ]
  },
  {
   "cell_type": "code",
   "execution_count": 8,
   "id": "f92bedd7",
   "metadata": {},
   "outputs": [
    {
     "data": {
      "text/plain": [
       "14.0"
      ]
     },
     "execution_count": 8,
     "metadata": {},
     "output_type": "execute_result"
    }
   ],
   "source": [
    "manhattan(A,B)"
   ]
  },
  {
   "cell_type": "markdown",
   "id": "8ca089ab",
   "metadata": {},
   "source": [
    "### 5.Let’s corroborate the earlier question. Now, calculate the Euclidean Distance between KIND granola and Nature’s Valley granola (round to two decimal places).\n",
    "\n"
   ]
  },
  {
   "cell_type": "code",
   "execution_count": 9,
   "id": "5081247d",
   "metadata": {},
   "outputs": [],
   "source": [
    "#create function to calculate Euclidean distance \n",
    "\n",
    "def Euclidean (a, b):\n",
    "    sum_sq = 0\n",
    "    for num1, num2 in zip(a,b):\n",
    "        sum_sq += (num1-num2)**2\n",
    "    return math.sqrt(sum_sq)\n",
    "\n"
   ]
  },
  {
   "cell_type": "code",
   "execution_count": 10,
   "id": "92b66946",
   "metadata": {},
   "outputs": [
    {
     "data": {
      "text/plain": [
       "12.165525060596439"
      ]
     },
     "execution_count": 10,
     "metadata": {},
     "output_type": "execute_result"
    }
   ],
   "source": [
    "Euclidean(A,B)"
   ]
  },
  {
   "cell_type": "markdown",
   "id": "725e4d55",
   "metadata": {},
   "source": [
    "### 6.Two new granola brands have come to market recently, and our Whole Foods analyst is considering adding them to store inventory next quarter. Use the scatter plot above and the price and sugar data below to estimate whether you think each granola will make the best sellers list based on a KNN model with k = 1 that uses Euclidean distance ('as the crow flies' distance).\n"
   ]
  },
  {
   "cell_type": "markdown",
   "id": "754ab300",
   "metadata": {},
   "source": [
    "### Reproducing the original scatter plot without the new brands"
   ]
  },
  {
   "cell_type": "code",
   "execution_count": 11,
   "id": "de65deca",
   "metadata": {},
   "outputs": [],
   "source": [
    "colors = df[\"Made bestsellers' list?\"].map({\"Yes\": \"green\", \"No\": \"red\",\"??\":\"pink\"})\n"
   ]
  },
  {
   "cell_type": "code",
   "execution_count": 12,
   "id": "10dc3d33",
   "metadata": {},
   "outputs": [
    {
     "data": {
      "image/png": "[encoded data removed]",
      "text/plain": [
       "<Figure size 640x480 with 1 Axes>"
      ]
     },
     "metadata": {},
     "output_type": "display_data"
    }
   ],
   "source": [
    "plt.scatter(x=df[\"Price ($)\"][colors == \"green\"], y=df[\"Sugar per serving\"][colors == \"green\"], c=\"green\", label=\"Yes\")\n",
    "plt.scatter(x=df[\"Price ($)\"][colors == \"red\"], y=df[\"Sugar per serving\"][colors == \"red\"], c=\"red\", label=\"No\")\n",
    "plt.axhline(0, color='black', lw=2)\n",
    "plt.axvline(0, color='black', lw=2)\n",
    "plt.xlabel(\"Price($)\")\n",
    "plt.ylabel\n",
    "plt.show()\n",
    "\n"
   ]
  },
  {
   "cell_type": "markdown",
   "id": "1578f401",
   "metadata": {},
   "source": [
    "### Adding the 2 new brands in the df"
   ]
  },
  {
   "cell_type": "code",
   "execution_count": 13,
   "id": "38dbb4fa",
   "metadata": {},
   "outputs": [],
   "source": [
    "new_granolas = pd.DataFrame({\"Brand\": [\"One Degree\", \"Coconola\"], \"Price ($)\": [6.49, 6.79], \"Sugar per serving\": [20, 11], \"Made bestsellers' list?\": [\"??\", \"??\"]})\n",
    "df = pd.concat([df, new_granolas], ignore_index=False)\n",
    "\n"
   ]
  },
  {
   "cell_type": "code",
   "execution_count": 14,
   "id": "539fa614",
   "metadata": {},
   "outputs": [
    {
     "data": {
      "text/html": [
       "<div>\n",
       "<style scoped>\n",
       "    .dataframe tbody tr th:only-of-type {\n",
       "        vertical-align: middle;\n",
       "    }\n",
       "\n",
       "    .dataframe tbody tr th {\n",
       "        vertical-align: top;\n",
       "    }\n",
       "\n",
       "    .dataframe thead th {\n",
       "        text-align: right;\n",
       "    }\n",
       "</style>\n",
       "<table border=\"1\" class=\"dataframe\">\n",
       "  <thead>\n",
       "    <tr style=\"text-align: right;\">\n",
       "      <th></th>\n",
       "      <th>Brand</th>\n",
       "      <th>Price ($)</th>\n",
       "      <th>Sugar per serving</th>\n",
       "      <th>Made bestsellers' list?</th>\n",
       "    </tr>\n",
       "  </thead>\n",
       "  <tbody>\n",
       "    <tr>\n",
       "      <th>0</th>\n",
       "      <td>KIND</td>\n",
       "      <td>6.99</td>\n",
       "      <td>10</td>\n",
       "      <td>Yes</td>\n",
       "    </tr>\n",
       "    <tr>\n",
       "      <th>1</th>\n",
       "      <td>Paleonola</td>\n",
       "      <td>6.29</td>\n",
       "      <td>12</td>\n",
       "      <td>Yes</td>\n",
       "    </tr>\n",
       "    <tr>\n",
       "      <th>2</th>\n",
       "      <td>Nature’s Valley</td>\n",
       "      <td>4.99</td>\n",
       "      <td>22</td>\n",
       "      <td>No</td>\n",
       "    </tr>\n",
       "    <tr>\n",
       "      <th>3</th>\n",
       "      <td>Purely Elizabeth</td>\n",
       "      <td>6.50</td>\n",
       "      <td>17</td>\n",
       "      <td>Yes</td>\n",
       "    </tr>\n",
       "    <tr>\n",
       "      <th>4</th>\n",
       "      <td>Kashi</td>\n",
       "      <td>6.75</td>\n",
       "      <td>16</td>\n",
       "      <td>No</td>\n",
       "    </tr>\n",
       "    <tr>\n",
       "      <th>5</th>\n",
       "      <td>Cascadian Farm</td>\n",
       "      <td>5.99</td>\n",
       "      <td>24</td>\n",
       "      <td>No</td>\n",
       "    </tr>\n",
       "    <tr>\n",
       "      <th>6</th>\n",
       "      <td>Quaker</td>\n",
       "      <td>6.25</td>\n",
       "      <td>28</td>\n",
       "      <td>No</td>\n",
       "    </tr>\n",
       "    <tr>\n",
       "      <th>0</th>\n",
       "      <td>One Degree</td>\n",
       "      <td>6.49</td>\n",
       "      <td>20</td>\n",
       "      <td>??</td>\n",
       "    </tr>\n",
       "    <tr>\n",
       "      <th>1</th>\n",
       "      <td>Coconola</td>\n",
       "      <td>6.79</td>\n",
       "      <td>11</td>\n",
       "      <td>??</td>\n",
       "    </tr>\n",
       "  </tbody>\n",
       "</table>\n",
       "</div>"
      ],
      "text/plain": [
       "              Brand  Price ($)  Sugar per serving Made bestsellers' list?\n",
       "0              KIND       6.99                 10                     Yes\n",
       "1         Paleonola       6.29                 12                     Yes\n",
       "2   Nature’s Valley       4.99                 22                      No\n",
       "3  Purely Elizabeth       6.50                 17                     Yes\n",
       "4             Kashi       6.75                 16                      No\n",
       "5    Cascadian Farm       5.99                 24                      No\n",
       "6            Quaker       6.25                 28                      No\n",
       "0        One Degree       6.49                 20                      ??\n",
       "1          Coconola       6.79                 11                      ??"
      ]
     },
     "execution_count": 14,
     "metadata": {},
     "output_type": "execute_result"
    }
   ],
   "source": [
    "df"
   ]
  },
  {
   "cell_type": "markdown",
   "id": "0df326da",
   "metadata": {},
   "source": [
    "### Plotting the 2 new brands in a different colour in the scatter plot, to have a visual of where the new 2 brands will fall"
   ]
  },
  {
   "cell_type": "code",
   "execution_count": 16,
   "id": "13eafa02",
   "metadata": {},
   "outputs": [
    {
     "data": {
      "image/png": "[encoded data removed]",
      "text/plain": [
       "<Figure size 640x480 with 1 Axes>"
      ]
     },
     "metadata": {},
     "output_type": "display_data"
    }
   ],
   "source": [
    "plt.scatter(x=df[\"Price ($)\"][colors == \"green\"], y=df[\"Sugar per serving\"][colors == \"green\"], c=\"green\", label=\"Yes\")\n",
    "plt.scatter(x=df[\"Price ($)\"][colors == \"red\"], y=df[\"Sugar per serving\"][colors == \"red\"], c=\"red\", label=\"No\")\n",
    "plt.scatter(x=df[\"Price ($)\"][df[\"Made bestsellers' list?\"] == \"??\"], y=df[\"Sugar per serving\"][df[\"Made bestsellers' list?\"] == \"??\"], c=\"purple\", label=\"??\")\n",
    "plt.axhline(0, color='black', lw=2)\n",
    "plt.axvline(0, color='black', lw=2)\n",
    "plt.xlabel(\"Price($)\")\n",
    "plt.ylabel\n",
    "plt.show()\n"
   ]
  },
  {
   "cell_type": "markdown",
   "id": "b47a8fc9",
   "metadata": {},
   "source": [
    "### Calculatin euclidean distance of One Degree Vs all the other brands"
   ]
  },
  {
   "cell_type": "code",
   "execution_count": 23,
   "id": "daed01a6",
   "metadata": {},
   "outputs": [],
   "source": [
    "from scipy.spatial import distance\n",
    "\n",
    "# select the features of one degree\n",
    "one_degree = df[df[\"Brand\"] == \"One Degree\"][['Price ($)', 'Sugar per serving']]\n",
    "\n",
    "# calculate the euclidean distance for all other brands\n",
    "euclidean_distance = []\n",
    "for i, row in df.iterrows():\n",
    "    if row[\"Brand\"] != \"One Degree\":\n",
    "        euclidean_distance.append(distance.euclidean(one_degree.values[0], [row[\"Price ($)\"], row[\"Sugar per serving\"]]))\n",
    "    else:\n",
    "        euclidean_distance.append(np.nan)\n",
    "\n",
    "# add the new column to the df\n",
    "df[\"One Degree Euc\"] = euclidean_distance\n"
   ]
  },
  {
   "cell_type": "code",
   "execution_count": 24,
   "id": "0a32e016",
   "metadata": {},
   "outputs": [
    {
     "data": {
      "text/html": [
       "<div>\n",
       "<style scoped>\n",
       "    .dataframe tbody tr th:only-of-type {\n",
       "        vertical-align: middle;\n",
       "    }\n",
       "\n",
       "    .dataframe tbody tr th {\n",
       "        vertical-align: top;\n",
       "    }\n",
       "\n",
       "    .dataframe thead th {\n",
       "        text-align: right;\n",
       "    }\n",
       "</style>\n",
       "<table border=\"1\" class=\"dataframe\">\n",
       "  <thead>\n",
       "    <tr style=\"text-align: right;\">\n",
       "      <th></th>\n",
       "      <th>Brand</th>\n",
       "      <th>Price ($)</th>\n",
       "      <th>Sugar per serving</th>\n",
       "      <th>Made bestsellers' list?</th>\n",
       "      <th>One Degree Euc</th>\n",
       "    </tr>\n",
       "  </thead>\n",
       "  <tbody>\n",
       "    <tr>\n",
       "      <th>0</th>\n",
       "      <td>KIND</td>\n",
       "      <td>6.99</td>\n",
       "      <td>10</td>\n",
       "      <td>Yes</td>\n",
       "      <td>10.012492</td>\n",
       "    </tr>\n",
       "    <tr>\n",
       "      <th>1</th>\n",
       "      <td>Paleonola</td>\n",
       "      <td>6.29</td>\n",
       "      <td>12</td>\n",
       "      <td>Yes</td>\n",
       "      <td>8.002500</td>\n",
       "    </tr>\n",
       "    <tr>\n",
       "      <th>2</th>\n",
       "      <td>Nature’s Valley</td>\n",
       "      <td>4.99</td>\n",
       "      <td>22</td>\n",
       "      <td>No</td>\n",
       "      <td>2.500000</td>\n",
       "    </tr>\n",
       "    <tr>\n",
       "      <th>3</th>\n",
       "      <td>Purely Elizabeth</td>\n",
       "      <td>6.50</td>\n",
       "      <td>17</td>\n",
       "      <td>Yes</td>\n",
       "      <td>3.000017</td>\n",
       "    </tr>\n",
       "    <tr>\n",
       "      <th>4</th>\n",
       "      <td>Kashi</td>\n",
       "      <td>6.75</td>\n",
       "      <td>16</td>\n",
       "      <td>No</td>\n",
       "      <td>4.008441</td>\n",
       "    </tr>\n",
       "    <tr>\n",
       "      <th>5</th>\n",
       "      <td>Cascadian Farm</td>\n",
       "      <td>5.99</td>\n",
       "      <td>24</td>\n",
       "      <td>No</td>\n",
       "      <td>4.031129</td>\n",
       "    </tr>\n",
       "    <tr>\n",
       "      <th>6</th>\n",
       "      <td>Quaker</td>\n",
       "      <td>6.25</td>\n",
       "      <td>28</td>\n",
       "      <td>No</td>\n",
       "      <td>8.003599</td>\n",
       "    </tr>\n",
       "    <tr>\n",
       "      <th>0</th>\n",
       "      <td>One Degree</td>\n",
       "      <td>6.49</td>\n",
       "      <td>20</td>\n",
       "      <td>??</td>\n",
       "      <td>NaN</td>\n",
       "    </tr>\n",
       "    <tr>\n",
       "      <th>1</th>\n",
       "      <td>Coconola</td>\n",
       "      <td>6.79</td>\n",
       "      <td>11</td>\n",
       "      <td>??</td>\n",
       "      <td>9.004999</td>\n",
       "    </tr>\n",
       "  </tbody>\n",
       "</table>\n",
       "</div>"
      ],
      "text/plain": [
       "              Brand  Price ($)  Sugar per serving Made bestsellers' list?  \\\n",
       "0              KIND       6.99                 10                     Yes   \n",
       "1         Paleonola       6.29                 12                     Yes   \n",
       "2   Nature’s Valley       4.99                 22                      No   \n",
       "3  Purely Elizabeth       6.50                 17                     Yes   \n",
       "4             Kashi       6.75                 16                      No   \n",
       "5    Cascadian Farm       5.99                 24                      No   \n",
       "6            Quaker       6.25                 28                      No   \n",
       "0        One Degree       6.49                 20                      ??   \n",
       "1          Coconola       6.79                 11                      ??   \n",
       "\n",
       "   One Degree Euc  \n",
       "0       10.012492  \n",
       "1        8.002500  \n",
       "2        2.500000  \n",
       "3        3.000017  \n",
       "4        4.008441  \n",
       "5        4.031129  \n",
       "6        8.003599  \n",
       "0             NaN  \n",
       "1        9.004999  "
      ]
     },
     "execution_count": 24,
     "metadata": {},
     "output_type": "execute_result"
    }
   ],
   "source": [
    "df"
   ]
  },
  {
   "cell_type": "markdown",
   "id": "ffbba14e",
   "metadata": {},
   "source": [
    "### Same for Coconola"
   ]
  },
  {
   "cell_type": "code",
   "execution_count": 27,
   "id": "2d9f345a",
   "metadata": {},
   "outputs": [],
   "source": [
    "# select the features of Coconola\n",
    "coconola = df[df[\"Brand\"] == \"Coconola\"][['Price ($)', 'Sugar per serving']]\n",
    "\n",
    "# calculate the euclidean distance for all other brands\n",
    "euclidean_distance = []\n",
    "for i, row in df.iterrows():\n",
    "    if row[\"Brand\"] != \"Coconola\":\n",
    "        euclidean_distance.append(distance.euclidean(coconola.values[0], [row[\"Price ($)\"], row[\"Sugar per serving\"]]))\n",
    "    else:\n",
    "        euclidean_distance.append(np.nan)\n",
    "\n",
    "# add the new column to the df\n",
    "df[\"Coconola Euc\"] = euclidean_distance\n"
   ]
  },
  {
   "cell_type": "code",
   "execution_count": 28,
   "id": "ce048e75",
   "metadata": {},
   "outputs": [
    {
     "data": {
      "text/html": [
       "<div>\n",
       "<style scoped>\n",
       "    .dataframe tbody tr th:only-of-type {\n",
       "        vertical-align: middle;\n",
       "    }\n",
       "\n",
       "    .dataframe tbody tr th {\n",
       "        vertical-align: top;\n",
       "    }\n",
       "\n",
       "    .dataframe thead th {\n",
       "        text-align: right;\n",
       "    }\n",
       "</style>\n",
       "<table border=\"1\" class=\"dataframe\">\n",
       "  <thead>\n",
       "    <tr style=\"text-align: right;\">\n",
       "      <th></th>\n",
       "      <th>Brand</th>\n",
       "      <th>Price ($)</th>\n",
       "      <th>Sugar per serving</th>\n",
       "      <th>Made bestsellers' list?</th>\n",
       "      <th>One Degree Euc</th>\n",
       "      <th>Coconola Euc</th>\n",
       "    </tr>\n",
       "  </thead>\n",
       "  <tbody>\n",
       "    <tr>\n",
       "      <th>0</th>\n",
       "      <td>KIND</td>\n",
       "      <td>6.99</td>\n",
       "      <td>10</td>\n",
       "      <td>Yes</td>\n",
       "      <td>10.012492</td>\n",
       "      <td>1.019804</td>\n",
       "    </tr>\n",
       "    <tr>\n",
       "      <th>1</th>\n",
       "      <td>Paleonola</td>\n",
       "      <td>6.29</td>\n",
       "      <td>12</td>\n",
       "      <td>Yes</td>\n",
       "      <td>8.002500</td>\n",
       "      <td>1.118034</td>\n",
       "    </tr>\n",
       "    <tr>\n",
       "      <th>2</th>\n",
       "      <td>Nature’s Valley</td>\n",
       "      <td>4.99</td>\n",
       "      <td>22</td>\n",
       "      <td>No</td>\n",
       "      <td>2.500000</td>\n",
       "      <td>11.146300</td>\n",
       "    </tr>\n",
       "    <tr>\n",
       "      <th>3</th>\n",
       "      <td>Purely Elizabeth</td>\n",
       "      <td>6.50</td>\n",
       "      <td>17</td>\n",
       "      <td>Yes</td>\n",
       "      <td>3.000017</td>\n",
       "      <td>6.007004</td>\n",
       "    </tr>\n",
       "    <tr>\n",
       "      <th>4</th>\n",
       "      <td>Kashi</td>\n",
       "      <td>6.75</td>\n",
       "      <td>16</td>\n",
       "      <td>No</td>\n",
       "      <td>4.008441</td>\n",
       "      <td>5.000160</td>\n",
       "    </tr>\n",
       "    <tr>\n",
       "      <th>5</th>\n",
       "      <td>Cascadian Farm</td>\n",
       "      <td>5.99</td>\n",
       "      <td>24</td>\n",
       "      <td>No</td>\n",
       "      <td>4.031129</td>\n",
       "      <td>13.024592</td>\n",
       "    </tr>\n",
       "    <tr>\n",
       "      <th>6</th>\n",
       "      <td>Quaker</td>\n",
       "      <td>6.25</td>\n",
       "      <td>28</td>\n",
       "      <td>No</td>\n",
       "      <td>8.003599</td>\n",
       "      <td>17.008574</td>\n",
       "    </tr>\n",
       "    <tr>\n",
       "      <th>0</th>\n",
       "      <td>One Degree</td>\n",
       "      <td>6.49</td>\n",
       "      <td>20</td>\n",
       "      <td>??</td>\n",
       "      <td>NaN</td>\n",
       "      <td>9.004999</td>\n",
       "    </tr>\n",
       "    <tr>\n",
       "      <th>1</th>\n",
       "      <td>Coconola</td>\n",
       "      <td>6.79</td>\n",
       "      <td>11</td>\n",
       "      <td>??</td>\n",
       "      <td>9.004999</td>\n",
       "      <td>NaN</td>\n",
       "    </tr>\n",
       "  </tbody>\n",
       "</table>\n",
       "</div>"
      ],
      "text/plain": [
       "              Brand  Price ($)  Sugar per serving Made bestsellers' list?  \\\n",
       "0              KIND       6.99                 10                     Yes   \n",
       "1         Paleonola       6.29                 12                     Yes   \n",
       "2   Nature’s Valley       4.99                 22                      No   \n",
       "3  Purely Elizabeth       6.50                 17                     Yes   \n",
       "4             Kashi       6.75                 16                      No   \n",
       "5    Cascadian Farm       5.99                 24                      No   \n",
       "6            Quaker       6.25                 28                      No   \n",
       "0        One Degree       6.49                 20                      ??   \n",
       "1          Coconola       6.79                 11                      ??   \n",
       "\n",
       "   One Degree Euc  Coconola Euc  \n",
       "0       10.012492      1.019804  \n",
       "1        8.002500      1.118034  \n",
       "2        2.500000     11.146300  \n",
       "3        3.000017      6.007004  \n",
       "4        4.008441      5.000160  \n",
       "5        4.031129     13.024592  \n",
       "6        8.003599     17.008574  \n",
       "0             NaN      9.004999  \n",
       "1        9.004999           NaN  "
      ]
     },
     "execution_count": 28,
     "metadata": {},
     "output_type": "execute_result"
    }
   ],
   "source": [
    "df"
   ]
  },
  {
   "cell_type": "markdown",
   "id": "82741085",
   "metadata": {},
   "source": [
    "Based on the Euc distance calculation and K = 1: \n",
    "\n",
    "for Coconola the nearest data point (k =1) is KIND (dist = 1.019804) which is part of the bestseller list. \n",
    "\n",
    "for One Degree  the nearest data point is Na ure’s Valley which is not in the bestsellers list."
   ]
  },
  {
   "cell_type": "markdown",
   "id": "9a19a25b",
   "metadata": {},
   "source": [
    "### 7.Now, test your judgment from Question 6: using a KNN model with k = 1 and now using the Manhattan Distance formula (to make by-hand calculation simpler (as compared with Euclidean)), say whether the model predicts these two brands are likely to make the best sellers list. To help you in your distance calculations, the Manhattan distances from One Degree to all the other granolas are provided here:"
   ]
  },
  {
   "cell_type": "markdown",
   "id": "ac6928f2",
   "metadata": {},
   "source": [
    "Similar approach for the Euc distance but calculating the Manhattan one this time:"
   ]
  },
  {
   "cell_type": "code",
   "execution_count": 30,
   "id": "df885767",
   "metadata": {},
   "outputs": [],
   "source": [
    "# select the features of One Degree\n",
    "one_degree = df[df[\"Brand\"] == \"One Degree\"][['Price ($)', 'Sugar per serving']]\n",
    "# calculate the Manhattan distance for all other brands\n",
    "manhattan_distance_one_degree = []\n",
    "for i, row in df.iterrows():\n",
    "    if row[\"Brand\"] != \"One Degree\":\n",
    "        manhattan_distance_one_degree.append(distance.cityblock(one_degree.values[0], [row[\"Price ($)\"], row[\"Sugar per serving\"]]))\n",
    "    else:\n",
    "        manhattan_distance_one_degree.append(np.nan)\n",
    "        \n",
    "# add the new column to the df\n",
    "df[\"One Degree Manhattan\"] = manhattan_distance_one_degree\n",
    "\n",
    "# select the features of Coconola\n",
    "coconola = df[df[\"Brand\"] == \"Coconola\"][['Price ($)', 'Sugar per serving']]\n",
    "# calculate the Manhattan distance for all other brands\n",
    "manhattan_distance_coconola = []\n",
    "for i, row in df.iterrows():\n",
    "    if row[\"Brand\"] != \"Coconola\":\n",
    "        manhattan_distance_coconola.append(distance.cityblock(coconola.values[0], [row[\"Price ($)\"], row[\"Sugar per serving\"]]))\n",
    "    else:\n",
    "        manhattan_distance_coconola.append(np.nan)\n",
    "        \n",
    "# add the new column to the df\n",
    "df[\"Coconola Manhattan\"] = manhattan_distance_coconola\n"
   ]
  },
  {
   "cell_type": "code",
   "execution_count": 31,
   "id": "f1adeaaf",
   "metadata": {},
   "outputs": [
    {
     "data": {
      "text/html": [
       "<div>\n",
       "<style scoped>\n",
       "    .dataframe tbody tr th:only-of-type {\n",
       "        vertical-align: middle;\n",
       "    }\n",
       "\n",
       "    .dataframe tbody tr th {\n",
       "        vertical-align: top;\n",
       "    }\n",
       "\n",
       "    .dataframe thead th {\n",
       "        text-align: right;\n",
       "    }\n",
       "</style>\n",
       "<table border=\"1\" class=\"dataframe\">\n",
       "  <thead>\n",
       "    <tr style=\"text-align: right;\">\n",
       "      <th></th>\n",
       "      <th>Brand</th>\n",
       "      <th>Price ($)</th>\n",
       "      <th>Sugar per serving</th>\n",
       "      <th>Made bestsellers' list?</th>\n",
       "      <th>One Degree Euc</th>\n",
       "      <th>Coconola Euc</th>\n",
       "      <th>One Degree Manhattan</th>\n",
       "      <th>Coconola Manhattan</th>\n",
       "    </tr>\n",
       "  </thead>\n",
       "  <tbody>\n",
       "    <tr>\n",
       "      <th>0</th>\n",
       "      <td>KIND</td>\n",
       "      <td>6.99</td>\n",
       "      <td>10</td>\n",
       "      <td>Yes</td>\n",
       "      <td>10.012492</td>\n",
       "      <td>1.019804</td>\n",
       "      <td>10.50</td>\n",
       "      <td>1.20</td>\n",
       "    </tr>\n",
       "    <tr>\n",
       "      <th>1</th>\n",
       "      <td>Paleonola</td>\n",
       "      <td>6.29</td>\n",
       "      <td>12</td>\n",
       "      <td>Yes</td>\n",
       "      <td>8.002500</td>\n",
       "      <td>1.118034</td>\n",
       "      <td>8.20</td>\n",
       "      <td>1.50</td>\n",
       "    </tr>\n",
       "    <tr>\n",
       "      <th>2</th>\n",
       "      <td>Nature’s Valley</td>\n",
       "      <td>4.99</td>\n",
       "      <td>22</td>\n",
       "      <td>No</td>\n",
       "      <td>2.500000</td>\n",
       "      <td>11.146300</td>\n",
       "      <td>3.50</td>\n",
       "      <td>12.80</td>\n",
       "    </tr>\n",
       "    <tr>\n",
       "      <th>3</th>\n",
       "      <td>Purely Elizabeth</td>\n",
       "      <td>6.50</td>\n",
       "      <td>17</td>\n",
       "      <td>Yes</td>\n",
       "      <td>3.000017</td>\n",
       "      <td>6.007004</td>\n",
       "      <td>3.01</td>\n",
       "      <td>6.29</td>\n",
       "    </tr>\n",
       "    <tr>\n",
       "      <th>4</th>\n",
       "      <td>Kashi</td>\n",
       "      <td>6.75</td>\n",
       "      <td>16</td>\n",
       "      <td>No</td>\n",
       "      <td>4.008441</td>\n",
       "      <td>5.000160</td>\n",
       "      <td>4.26</td>\n",
       "      <td>5.04</td>\n",
       "    </tr>\n",
       "    <tr>\n",
       "      <th>5</th>\n",
       "      <td>Cascadian Farm</td>\n",
       "      <td>5.99</td>\n",
       "      <td>24</td>\n",
       "      <td>No</td>\n",
       "      <td>4.031129</td>\n",
       "      <td>13.024592</td>\n",
       "      <td>4.50</td>\n",
       "      <td>13.80</td>\n",
       "    </tr>\n",
       "    <tr>\n",
       "      <th>6</th>\n",
       "      <td>Quaker</td>\n",
       "      <td>6.25</td>\n",
       "      <td>28</td>\n",
       "      <td>No</td>\n",
       "      <td>8.003599</td>\n",
       "      <td>17.008574</td>\n",
       "      <td>8.24</td>\n",
       "      <td>17.54</td>\n",
       "    </tr>\n",
       "    <tr>\n",
       "      <th>0</th>\n",
       "      <td>One Degree</td>\n",
       "      <td>6.49</td>\n",
       "      <td>20</td>\n",
       "      <td>??</td>\n",
       "      <td>NaN</td>\n",
       "      <td>9.004999</td>\n",
       "      <td>NaN</td>\n",
       "      <td>9.30</td>\n",
       "    </tr>\n",
       "    <tr>\n",
       "      <th>1</th>\n",
       "      <td>Coconola</td>\n",
       "      <td>6.79</td>\n",
       "      <td>11</td>\n",
       "      <td>??</td>\n",
       "      <td>9.004999</td>\n",
       "      <td>NaN</td>\n",
       "      <td>9.30</td>\n",
       "      <td>NaN</td>\n",
       "    </tr>\n",
       "  </tbody>\n",
       "</table>\n",
       "</div>"
      ],
      "text/plain": [
       "              Brand  Price ($)  Sugar per serving Made bestsellers' list?  \\\n",
       "0              KIND       6.99                 10                     Yes   \n",
       "1         Paleonola       6.29                 12                     Yes   \n",
       "2   Nature’s Valley       4.99                 22                      No   \n",
       "3  Purely Elizabeth       6.50                 17                     Yes   \n",
       "4             Kashi       6.75                 16                      No   \n",
       "5    Cascadian Farm       5.99                 24                      No   \n",
       "6            Quaker       6.25                 28                      No   \n",
       "0        One Degree       6.49                 20                      ??   \n",
       "1          Coconola       6.79                 11                      ??   \n",
       "\n",
       "   One Degree Euc  Coconola Euc  One Degree Manhattan  Coconola Manhattan  \n",
       "0       10.012492      1.019804                 10.50                1.20  \n",
       "1        8.002500      1.118034                  8.20                1.50  \n",
       "2        2.500000     11.146300                  3.50               12.80  \n",
       "3        3.000017      6.007004                  3.01                6.29  \n",
       "4        4.008441      5.000160                  4.26                5.04  \n",
       "5        4.031129     13.024592                  4.50               13.80  \n",
       "6        8.003599     17.008574                  8.24               17.54  \n",
       "0             NaN      9.004999                   NaN                9.30  \n",
       "1        9.004999           NaN                  9.30                 NaN  "
      ]
     },
     "execution_count": 31,
     "metadata": {},
     "output_type": "execute_result"
    }
   ],
   "source": [
    "df"
   ]
  },
  {
   "cell_type": "markdown",
   "id": "e67743ba",
   "metadata": {},
   "source": [
    "Using Manhattan distance and k=1, both brand shuold make it on the bestseller list because for both, the nearest data point is already on the bestseller list.\n"
   ]
  },
  {
   "cell_type": "markdown",
   "id": "f6691dc7",
   "metadata": {},
   "source": [
    "### 8.Now, assuming we still use the Manhattan distance, let k = 3. Predict whether One Degree and Coconola make the best-sellers list."
   ]
  },
  {
   "cell_type": "markdown",
   "id": "bc1a68ff",
   "metadata": {},
   "source": [
    "if we consider k = 3 only Coconola would make it because looking at the three nearest data point (the three with the shortest distance from it), 2 out of 3 (hence the majority) are part of the bestseller list.\n",
    "\n",
    "if we look at One Degree, for k = 3, only 1/3 of the nearest data point are part of the bestseller list."
   ]
  },
  {
   "cell_type": "markdown",
   "id": "a7a5cdea",
   "metadata": {},
   "source": [
    "### 9.Finally, still using the Manhattan distance, let k = 7. Predict whether One Degree and Coconola make the best-sellers list."
   ]
  },
  {
   "cell_type": "markdown",
   "id": "4f6a9f26",
   "metadata": {},
   "source": [
    "In this case, none of the 2 new brand woudld make it because with k = 7 we are consideing all the data point in the plot and the majority of the data are not in the bestseller list"
   ]
  },
  {
   "cell_type": "code",
   "execution_count": null,
   "id": "ac5e5702",
   "metadata": {},
   "outputs": [],
   "source": []
  }
 ],
 "metadata": {
  "kernelspec": {
   "display_name": "Python 3 (ipykernel)",
   "language": "python",
   "name": "python3"
  },
  "language_info": {
   "codemirror_mode": {
    "name": "ipython",
    "version": 3
   },
   "file_extension": ".py",
   "mimetype": "text/x-python",
   "name": "python",
   "nbconvert_exporter": "python",
   "pygments_lexer": "ipython3",
   "version": "3.9.13"
  }
 },
 "nbformat": 4,
 "nbformat_minor": 5
}
